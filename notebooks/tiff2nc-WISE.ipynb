{
 "cells": [
  {
   "cell_type": "markdown",
   "id": "04c17aa0",
   "metadata": {
    "tags": []
   },
   "source": [
    "## tiff2nc-WISE\n",
    "- Created by Will Wieder\n",
    "- March 2022\n",
    "\n",
    "### Converts geoTiff file from WISE to .nc files for use in mksurf\n",
    "\n",
    "Combines gridded map units at 30sec resolution (1km) with Lookup table with soil properties.\n",
    "\n",
    "Lookup table has 3 coordinates: \n",
    "- Map units that correspond to the gridded maps, which have information from \n",
    "- Multiple soil profiles (ranked in order of abundance), each with \n",
    "- Depth resolved properties, 7 vertical layers (0-2m depth)\n",
    "\n",
    "#### Data available at [isric website](https://data.isric.org/geonetwork/srv/eng/catalog.search#/metadata/dc7b283a-8f19-45e1-aaed-e9bd515119bc/formatters/xsl-view?root=div&view=advanced&approved=true)\n",
    "\n",
    "\n",
    "retrieved with the following command:\n",
    "\n",
    "`wget https://files.isric.org/public/wise/wise_30sec_v1.zip `\n",
    "\n",
    "Finally, information about units & conversions for each variable are here: \n",
    "- Batjes NH 2016. Harmonised soil property values for broad-scale modelling (WISE30sec) with estimates of global soil carbon stocks. [Geoderma 2016(269), 61-68](http://dx.doi.org/10.1016/j.geoderma.2016.01.034) and\n",
    "- Technical documentation [provided here](https://library.wur.nl/WebQuery/wurpubs/fulltext/400244)\n",
    "\n",
    "The last plotting cell overloads memory, even using dask workers, as below.\n",
    "\n",
    "Instead, getting 100GB of memory seems through JupyterHub seems to work."
   ]
  },
  {
   "cell_type": "code",
   "execution_count": 1,
   "id": "b2f098a6",
   "metadata": {},
   "outputs": [],
   "source": [
    "import numpy as np\n",
    "import pandas as pd\n",
    "import xarray as xr\n",
    "import rioxarray\n",
    "#from affine import Affine\n",
    "import matplotlib.pyplot as plt\n",
    "from glob import glob\n",
    "import dask\n",
    "from distributed import wait\n",
    "import warnings\n",
    "warnings.simplefilter(\"ignore\", category=RuntimeWarning)\n",
    "\n",
    "%matplotlib inline"
   ]
  },
  {
   "cell_type": "markdown",
   "id": "40970c07",
   "metadata": {},
   "source": [
    "### Get some workers"
   ]
  },
  {
   "cell_type": "code",
   "execution_count": 2,
   "id": "b76e92ee",
   "metadata": {},
   "outputs": [],
   "source": [
    "# Updated for PBS scheduler\n",
    "# this could go into utils.\n",
    "# By default gets 1 core w/ 25 GB memory\n",
    "def get_ClusterClient(ncores=1, nmem='25GB'):\n",
    "    import dask\n",
    "    from dask_jobqueue import PBSCluster\n",
    "    from dask.distributed import Client\n",
    "    ncores=ncores\n",
    "    nmem = nmem\n",
    "\n",
    "    cluster = PBSCluster(\n",
    "        cores=ncores, # The number of cores you want\n",
    "        memory=nmem, # Amount of memory\n",
    "        processes=ncores, # How many processes\n",
    "        queue='casper', # The type of queue to utilize (/glade/u/apps/dav/opt/usr/bin/execcasper)\n",
    "        resource_spec='select=1:ncpus='+str(ncores)+':mem='+nmem, # Specify resources\n",
    "        project='P93300641', # Input your project ID here\n",
    "        walltime='1:00:00', # Amount of wall time\n",
    "        interface='ib0', # Interface to use\n",
    "    )\n",
    "\n",
    "    dask.config.set({\n",
    "        'distributed.dashboard.link':\n",
    "        'https://jupyterhub.hpc.ucar.edu/stable/user/{USER}/proxy/{port}/status'\n",
    "    })\n",
    "\n",
    "    client = Client(cluster)\n",
    "    return cluster, client"
   ]
  },
  {
   "cell_type": "code",
   "execution_count": 3,
   "id": "c2c11a0d",
   "metadata": {},
   "outputs": [
    {
     "name": "stderr",
     "output_type": "stream",
     "text": [
      "/glade/u/home/wwieder/miniconda3/envs/tiff2nc/lib/python3.7/site-packages/dask_jobqueue/core.py:20: FutureWarning: tmpfile is deprecated and will be removed in a future release. Please use dask.utils.tmpfile instead.\n",
      "  from distributed.utils import tmpfile\n"
     ]
    },
    {
     "data": {
      "text/html": [
       "<div class=\"jp-RenderedHTMLCommon jp-RenderedHTML jp-mod-trusted jp-OutputArea-output\">\n",
       "    <div style=\"width: 24px; height: 24px; background-color: #e1e1e1; border: 3px solid #9D9D9D; border-radius: 5px; position: absolute;\">\n",
       "    </div>\n",
       "    <div style=\"margin-left: 48px;\">\n",
       "        <h3 style=\"margin-bottom: 0px; margin-top: 0px;\">PBSCluster</h3>\n",
       "        <p style=\"color: #9D9D9D; margin-bottom: 0px;\">647baccc</p>\n",
       "        <table style=\"width: 100%; text-align: left;\">\n",
       "            <tr>\n",
       "                <td style=\"text-align: left;\">\n",
       "                    <strong>Dashboard:</strong> <a href=\"https://jupyterhub.hpc.ucar.edu/stable/user/wwieder/proxy/8787/status\" target=\"_blank\">https://jupyterhub.hpc.ucar.edu/stable/user/wwieder/proxy/8787/status</a>\n",
       "                </td>\n",
       "                <td style=\"text-align: left;\">\n",
       "                    <strong>Workers:</strong> 0\n",
       "                </td>\n",
       "            </tr>\n",
       "            <tr>\n",
       "                <td style=\"text-align: left;\">\n",
       "                    <strong>Total threads:</strong> 0\n",
       "                </td>\n",
       "                <td style=\"text-align: left;\">\n",
       "                    <strong>Total memory:</strong> 0 B\n",
       "                </td>\n",
       "            </tr>\n",
       "            \n",
       "        </table>\n",
       "\n",
       "        <details>\n",
       "            <summary style=\"margin-bottom: 20px;\">\n",
       "                <h3 style=\"display: inline;\">Scheduler Info</h3>\n",
       "            </summary>\n",
       "\n",
       "            <div style=\"\">\n",
       "    <div>\n",
       "        <div style=\"width: 24px; height: 24px; background-color: #FFF7E5; border: 3px solid #FF6132; border-radius: 5px; position: absolute;\"> </div>\n",
       "        <div style=\"margin-left: 48px;\">\n",
       "            <h3 style=\"margin-bottom: 0px;\">Scheduler</h3>\n",
       "            <p style=\"color: #9D9D9D; margin-bottom: 0px;\">Scheduler-240cce83-c5b5-4a74-8015-5c9d4e9d7aa0</p>\n",
       "            <table style=\"width: 100%; text-align: left;\">\n",
       "                <tr>\n",
       "                    <td style=\"text-align: left;\">\n",
       "                        <strong>Comm:</strong> tcp://10.12.206.39:43613\n",
       "                    </td>\n",
       "                    <td style=\"text-align: left;\">\n",
       "                        <strong>Workers:</strong> 0\n",
       "                    </td>\n",
       "                </tr>\n",
       "                <tr>\n",
       "                    <td style=\"text-align: left;\">\n",
       "                        <strong>Dashboard:</strong> <a href=\"https://jupyterhub.hpc.ucar.edu/stable/user/wwieder/proxy/8787/status\" target=\"_blank\">https://jupyterhub.hpc.ucar.edu/stable/user/wwieder/proxy/8787/status</a>\n",
       "                    </td>\n",
       "                    <td style=\"text-align: left;\">\n",
       "                        <strong>Total threads:</strong> 0\n",
       "                    </td>\n",
       "                </tr>\n",
       "                <tr>\n",
       "                    <td style=\"text-align: left;\">\n",
       "                        <strong>Started:</strong> Just now\n",
       "                    </td>\n",
       "                    <td style=\"text-align: left;\">\n",
       "                        <strong>Total memory:</strong> 0 B\n",
       "                    </td>\n",
       "                </tr>\n",
       "            </table>\n",
       "        </div>\n",
       "    </div>\n",
       "\n",
       "    <details style=\"margin-left: 48px;\">\n",
       "        <summary style=\"margin-bottom: 20px;\">\n",
       "            <h3 style=\"display: inline;\">Workers</h3>\n",
       "        </summary>\n",
       "\n",
       "        \n",
       "\n",
       "    </details>\n",
       "</div>\n",
       "\n",
       "        </details>\n",
       "    </div>\n",
       "</div>"
      ],
      "text/plain": [
       "PBSCluster(647baccc, 'tcp://10.12.206.39:43613', workers=0, threads=0, memory=0 B)"
      ]
     },
     "metadata": {},
     "output_type": "display_data"
    }
   ],
   "source": [
    "## Note, this doesn't seem to work when logging onto JupyterHub\n",
    "cluster, client = get_ClusterClient(nmem='10GB')\n",
    "cluster.scale(20)\n",
    "cluster"
   ]
  },
  {
   "cell_type": "markdown",
   "id": "b49efb25",
   "metadata": {},
   "source": [
    "## point to raw datasets"
   ]
  },
  {
   "cell_type": "code",
   "execution_count": 4,
   "id": "a644f911",
   "metadata": {},
   "outputs": [],
   "source": [
    "path ='/glade/scratch/wwieder/wise_30sec_v1/WISE30sec/Interchangeable_format/'\n",
    "infile = path + 'wise_30sec_v1.tif'\n",
    "Lookup = path + 'HW30s_FULL.txt'"
   ]
  },
  {
   "cell_type": "code",
   "execution_count": 5,
   "id": "1596e559",
   "metadata": {},
   "outputs": [
    {
     "name": "stdout",
     "output_type": "stream",
     "text": [
      "Lookup unique profiles = 16413\n"
     ]
    },
    {
     "data": {
      "text/html": [
       "<div>\n",
       "<style scoped>\n",
       "    .dataframe tbody tr th:only-of-type {\n",
       "        vertical-align: middle;\n",
       "    }\n",
       "\n",
       "    .dataframe tbody tr th {\n",
       "        vertical-align: top;\n",
       "    }\n",
       "\n",
       "    .dataframe thead th {\n",
       "        text-align: right;\n",
       "    }\n",
       "</style>\n",
       "<table border=\"1\" class=\"dataframe\">\n",
       "  <thead>\n",
       "    <tr style=\"text-align: right;\">\n",
       "      <th></th>\n",
       "      <th>NEWSUID</th>\n",
       "      <th>SCID</th>\n",
       "      <th>PROP</th>\n",
       "      <th>CLAF</th>\n",
       "      <th>PRID</th>\n",
       "      <th>Drain</th>\n",
       "      <th>DrainNum</th>\n",
       "      <th>Layer</th>\n",
       "      <th>TopDep</th>\n",
       "      <th>BotDep</th>\n",
       "      <th>...</th>\n",
       "      <th>ESP</th>\n",
       "      <th>ESP_std</th>\n",
       "      <th>PHAQ</th>\n",
       "      <th>PHAQ_std</th>\n",
       "      <th>TCEQ</th>\n",
       "      <th>TCEQ_std</th>\n",
       "      <th>GYPS</th>\n",
       "      <th>GYPS_std</th>\n",
       "      <th>ELCO</th>\n",
       "      <th>ELCO_std</th>\n",
       "    </tr>\n",
       "  </thead>\n",
       "  <tbody>\n",
       "    <tr>\n",
       "      <th>0</th>\n",
       "      <td>WD10001666</td>\n",
       "      <td>1.0</td>\n",
       "      <td>70.0</td>\n",
       "      <td>RGe</td>\n",
       "      <td>RGe/A</td>\n",
       "      <td>S</td>\n",
       "      <td>6.0</td>\n",
       "      <td>D2</td>\n",
       "      <td>20.0</td>\n",
       "      <td>40.0</td>\n",
       "      <td>...</td>\n",
       "      <td>4.0</td>\n",
       "      <td>3.0</td>\n",
       "      <td>6.4</td>\n",
       "      <td>0.6</td>\n",
       "      <td>0.0</td>\n",
       "      <td>0.0</td>\n",
       "      <td>29.0</td>\n",
       "      <td>33.0</td>\n",
       "      <td>1.0</td>\n",
       "      <td>1.0</td>\n",
       "    </tr>\n",
       "    <tr>\n",
       "      <th>193</th>\n",
       "      <td>WD10001666</td>\n",
       "      <td>1.0</td>\n",
       "      <td>70.0</td>\n",
       "      <td>RGe</td>\n",
       "      <td>RGe/A</td>\n",
       "      <td>S</td>\n",
       "      <td>6.0</td>\n",
       "      <td>D3</td>\n",
       "      <td>40.0</td>\n",
       "      <td>60.0</td>\n",
       "      <td>...</td>\n",
       "      <td>4.0</td>\n",
       "      <td>3.0</td>\n",
       "      <td>6.5</td>\n",
       "      <td>0.6</td>\n",
       "      <td>0.0</td>\n",
       "      <td>0.0</td>\n",
       "      <td>6.0</td>\n",
       "      <td>7.0</td>\n",
       "      <td>1.0</td>\n",
       "      <td>1.3</td>\n",
       "    </tr>\n",
       "    <tr>\n",
       "      <th>155698</th>\n",
       "      <td>WD10001666</td>\n",
       "      <td>2.0</td>\n",
       "      <td>30.0</td>\n",
       "      <td>LPq</td>\n",
       "      <td>LPq/A</td>\n",
       "      <td>E</td>\n",
       "      <td>7.0</td>\n",
       "      <td>D1</td>\n",
       "      <td>0.0</td>\n",
       "      <td>20.0</td>\n",
       "      <td>...</td>\n",
       "      <td>3.0</td>\n",
       "      <td>2.0</td>\n",
       "      <td>6.7</td>\n",
       "      <td>1.3</td>\n",
       "      <td>0.0</td>\n",
       "      <td>0.0</td>\n",
       "      <td>3.0</td>\n",
       "      <td>6.0</td>\n",
       "      <td>1.0</td>\n",
       "      <td>1.0</td>\n",
       "    </tr>\n",
       "    <tr>\n",
       "      <th>156294</th>\n",
       "      <td>WD10001666</td>\n",
       "      <td>2.0</td>\n",
       "      <td>30.0</td>\n",
       "      <td>LPq</td>\n",
       "      <td>LPq/A</td>\n",
       "      <td>-7</td>\n",
       "      <td>-9.0</td>\n",
       "      <td>D2</td>\n",
       "      <td>20.0</td>\n",
       "      <td>40.0</td>\n",
       "      <td>...</td>\n",
       "      <td>-7.0</td>\n",
       "      <td>-7.0</td>\n",
       "      <td>-7.0</td>\n",
       "      <td>-7.0</td>\n",
       "      <td>-7.0</td>\n",
       "      <td>-7.0</td>\n",
       "      <td>-7.0</td>\n",
       "      <td>-7.0</td>\n",
       "      <td>-7.0</td>\n",
       "      <td>-7.0</td>\n",
       "    </tr>\n",
       "    <tr>\n",
       "      <th>156890</th>\n",
       "      <td>WD10001666</td>\n",
       "      <td>2.0</td>\n",
       "      <td>30.0</td>\n",
       "      <td>LPq</td>\n",
       "      <td>LPq/A</td>\n",
       "      <td>-7</td>\n",
       "      <td>-9.0</td>\n",
       "      <td>D3</td>\n",
       "      <td>40.0</td>\n",
       "      <td>60.0</td>\n",
       "      <td>...</td>\n",
       "      <td>-7.0</td>\n",
       "      <td>-7.0</td>\n",
       "      <td>-7.0</td>\n",
       "      <td>-7.0</td>\n",
       "      <td>-7.0</td>\n",
       "      <td>-7.0</td>\n",
       "      <td>-7.0</td>\n",
       "      <td>-7.0</td>\n",
       "      <td>-7.0</td>\n",
       "      <td>-7.0</td>\n",
       "    </tr>\n",
       "  </tbody>\n",
       "</table>\n",
       "<p>5 rows × 51 columns</p>\n",
       "</div>"
      ],
      "text/plain": [
       "           NEWSUID  SCID  PROP CLAF   PRID Drain  DrainNum Layer  TopDep  \\\n",
       "0       WD10001666   1.0  70.0  RGe  RGe/A     S       6.0    D2    20.0   \n",
       "193     WD10001666   1.0  70.0  RGe  RGe/A     S       6.0    D3    40.0   \n",
       "155698  WD10001666   2.0  30.0  LPq  LPq/A     E       7.0    D1     0.0   \n",
       "156294  WD10001666   2.0  30.0  LPq  LPq/A    -7      -9.0    D2    20.0   \n",
       "156890  WD10001666   2.0  30.0  LPq  LPq/A    -7      -9.0    D3    40.0   \n",
       "\n",
       "        BotDep  ...  ESP  ESP_std  PHAQ  PHAQ_std  TCEQ  TCEQ_std  GYPS  \\\n",
       "0         40.0  ...  4.0      3.0   6.4       0.6   0.0       0.0  29.0   \n",
       "193       60.0  ...  4.0      3.0   6.5       0.6   0.0       0.0   6.0   \n",
       "155698    20.0  ...  3.0      2.0   6.7       1.3   0.0       0.0   3.0   \n",
       "156294    40.0  ... -7.0     -7.0  -7.0      -7.0  -7.0      -7.0  -7.0   \n",
       "156890    60.0  ... -7.0     -7.0  -7.0      -7.0  -7.0      -7.0  -7.0   \n",
       "\n",
       "        GYPS_std ELCO  ELCO_std  \n",
       "0           33.0  1.0       1.0  \n",
       "193          7.0  1.0       1.3  \n",
       "155698       6.0  1.0       1.0  \n",
       "156294      -7.0 -7.0      -7.0  \n",
       "156890      -7.0 -7.0      -7.0  \n",
       "\n",
       "[5 rows x 51 columns]"
      ]
     },
     "execution_count": 5,
     "metadata": {},
     "output_type": "execute_result"
    }
   ],
   "source": [
    "lookup = pd.read_csv(Lookup, sep=',')\n",
    "print('Lookup unique profiles = ' + str(len(lookup.NEWSUID.unique()) ) )\n",
    "lookup.where(lookup.NEWSUID == 'WD10001666').dropna().head()"
   ]
  },
  {
   "cell_type": "markdown",
   "id": "2aadd820",
   "metadata": {},
   "source": [
    "### Each mapping unit may have information about multiple profiles \n",
    "- this example has 2"
   ]
  },
  {
   "cell_type": "code",
   "execution_count": 6,
   "id": "b241bdcd",
   "metadata": {},
   "outputs": [
    {
     "name": "stdout",
     "output_type": "stream",
     "text": [
      "[ 1666  6309  1700 ...  7230  6997 32091]\n",
      "16413\n"
     ]
    }
   ],
   "source": [
    "# Drop characters off the front of map units and conver to intiger\n",
    "lookup['MapUnit'] = (lookup.NEWSUID.str[4:]).astype(int)\n",
    "print(lookup['MapUnit'].unique())\n",
    "print(len(lookup['MapUnit'].unique()))"
   ]
  },
  {
   "cell_type": "code",
   "execution_count": 7,
   "id": "bda94d9a",
   "metadata": {},
   "outputs": [],
   "source": [
    "# convert to multi index and then create xarray dataset\n",
    "lookup = lookup.set_index(['MapUnit','SCID','BotDep']).sort_index()\n",
    "dsLook = lookup.to_xarray()\n",
    "#dsLook"
   ]
  },
  {
   "cell_type": "code",
   "execution_count": 8,
   "id": "f1bdc1e4",
   "metadata": {},
   "outputs": [],
   "source": [
    "# Convert to Xarray dataset for mapping to CLM structures\n",
    "# add meta data from Appendix 9 of technical documentation \n",
    "dsLook = lookup.to_xarray()\n",
    "dsLook.MapUnit.attrs['long_name'] = 'WISE mapping unit'\n",
    "dsLook.NEWSUID.attrs['long_name'] = 'Globally unique map unit code, see Appendix 4'\n",
    "dsLook.SCID.attrs['long_name'] = 'Number of soil unit within the given map unit (ranges from 1 to 10)'\n",
    "dsLook.PRID.attrs['long_name'] = 'profile ID (as documented in table HW30S_MapUnit, see Appendix 6)'\n",
    "dsLook.Drain.attrs['long_name'] = 'FAO soil drainage class'\n",
    "dsLook.TopDep.attrs['long_name']  = 'depth of top of layer'\n",
    "dsLook.TopDep.attrs['units'] = 'cm'\n",
    "dsLook.BotDep.attrs['long_name'] = 'depth of bottom of layer'\n",
    "dsLook.BotDep.attrs['units'] = 'cm'\n",
    "dsLook.CFRAG.attrs['long_name'] = 'coarse fragments'\n",
    "dsLook.CFRAG.attrs['units'] = 'vol% > 2 mm'\n",
    "\n",
    "dsLook.SDTO.attrs['long_name'] = 'sand'\n",
    "dsLook.SDTO.attrs['units']  = 'mass %'\n",
    "dsLook.STPC.attrs['long_name'] = 'silt'\n",
    "dsLook.STPC.attrs['units']  = 'mass %'\n",
    "dsLook.CLPC.attrs['long_name'] = 'clay'\n",
    "dsLook.CLPC.attrs['units']  = 'mass %'\n",
    "dsLook.BULK.attrs['long_name'] = 'bulk density'\n",
    "dsLook.BULK.attrs['units']  = '(kg dm^-3, g cm^-3'\n",
    "dsLook.TAWC.attrs['long_name'] = 'available water capacity (-33 to -1500 kPa conform to USDA standards)'\n",
    "dsLook.TAWC.attrs['units'] = 'cm m^-1'\n",
    "\n",
    "dsLook.CECS.attrs['long_name'] = 'cation exchange capacity for fine earth fraction'\n",
    "dsLook.CECS.attrs['units'] = 'cmol_c kg^-1'\n",
    "dsLook.CECc.attrs['long_name'] = 'CECclay, corrected for contribution of organic matter'\n",
    "dsLook.CECc.attrs['units'] = 'cmol_c kg^-1'\n",
    "dsLook.TEB.attrs['long_name'] = 'total exchangeable bases'\n",
    "dsLook.TEB.attrs['units'] = 'cmol_c kg^-1'\n",
    "dsLook.BSAT.attrs['long_name'] = 'Base saturation as percentage of CECsoil'\n",
    "dsLook.BSAT.attrs['units'] = 'None'\n",
    "dsLook.ECEC.attrs['long_name'] = 'effective CEC'\n",
    "dsLook.ECEC.attrs['units'] = 'cmol_c kg^-1'\n",
    "\n",
    "dsLook.PHAQ.attrs['long_name'] = 'pH measured in water'\n",
    "dsLook.PHAQ.attrs['units'] = 'None'\n",
    "dsLook.TCEQ.attrs['long_name'] = 'total carbonate equivalent'\n",
    "dsLook.TCEQ.attrs['units'] = 'gC kg^-1'\n",
    "dsLook.ORGC.attrs['long_name'] = 'organic carbon content'\n",
    "dsLook.ORGC.attrs['units'] = 'gC kg^-1'\n",
    "dsLook.TOTN.attrs['long_name'] = 'total nitrogen'\n",
    "dsLook.TOTN.attrs['units'] = 'gN kg^-1'\n",
    "dsLook.CNrt.attrs['long_name'] = 'C/N ratio'\n",
    "dsLook.CNrt.attrs['units'] = 'None'\n",
    "\n",
    "dsLook.attrs['source data'] = 'https://files.isric.org/public/wise/wise_30sec_v1.zip'\n",
    "dsLook.attrs['doucmentation'] = 'https://library.wur.nl/WebQuery/wurpubs/fulltext/400244'\n",
    "dsLook.attrs['publication'] = 'https://doi.org/10.1016/j.geoderma.2016.01.034'\n",
    "dsLook.attrs['accessed'] = '11 March, 2022'\n",
    "dsLook.attrs['notes'] = 'generated by Will Wieder'\n",
    "dsLook.attrs['source code'] = 'tiff2nc-WISE.ipynb'"
   ]
  },
  {
   "cell_type": "code",
   "execution_count": 9,
   "id": "bd3e2f14",
   "metadata": {},
   "outputs": [
    {
     "name": "stdout",
     "output_type": "stream",
     "text": [
      "[0.0175 0.0451 0.0906 0.1656 0.2892 0.493  0.829  1.3829 2.2962 3.4332]\n",
      "[0.2 0.4 0.6 0.8 1.  1.5 2. ]\n"
     ]
    },
    {
     "data": {
      "image/png": "[encoded data removed]",
      "text/plain": [
       "<Figure size 432x288 with 2 Axes>"
      ]
     },
     "metadata": {
      "needs_background": "light"
     },
     "output_type": "display_data"
    }
   ],
   "source": [
    "## Open file with target dimensions for CLM\n",
    "CLMin = '/glade/p/cesmdata/cseg/inputdata/lnd/clm2/rawdata/mksrf_soitex.10level.c010119.nc'\n",
    "dsCLM = xr.open_dataset(CLMin)\n",
    "print(dsCLM.ZSOI.values)\n",
    "print((dsLook.BotDep/100).values[0:7])\n",
    "plt.subplot(1,2,1)\n",
    "dsCLM.PCT_SAND.sel(max_value_mapunit=37).plot(y='number_of_layers') \n",
    "plt.gca().invert_yaxis();\n",
    "plt.subplot(1,2,2)\n",
    "dsLook.SDTO.isel(MapUnit = 2, SCID=0).plot(y='BotDep')\n",
    "plt.gca().invert_yaxis();"
   ]
  },
  {
   "cell_type": "markdown",
   "id": "530b6bdc",
   "metadata": {},
   "source": [
    "- CLM layers 0-3 (<0.16) are 0-20 cm for WISE [0]\n",
    "- CLM layer 4 (0.29) is 20-40 cm for WISE\n",
    "- CLM layer 5 (0.49) is 40-60 cm for WISE\n",
    "* no CLM layer for WISE data 60-80\n",
    "- CLM layer 6 (0.83) is 80-100 cm for WISE\n",
    "- CLM layer 7 (1.38) is 100-150 cm for WISE\n",
    "- CLM layers 8-9 are 150-200 cm for WISE\n",
    "#### make a new output datset with 10 layers, cooresponding to CLM layers"
   ]
  },
  {
   "cell_type": "code",
   "execution_count": 15,
   "id": "b79226c6",
   "metadata": {},
   "outputs": [
    {
     "data": {
      "image/png": "[encoded data removed]",
      "text/plain": [
       "<Figure size 432x288 with 1 Axes>"
      ]
     },
     "metadata": {
      "needs_background": "light"
     },
     "output_type": "display_data"
    }
   ],
   "source": [
    "MapUnit = dsLook.MapUnit\n",
    "SCID = dsLook.SCID\n",
    "soil_layer = dsCLM.number_of_layers.rename({'number_of_layers':'soil_layer'})\n",
    "#dsOUT = xr.Dataset(data_vars=None,\n",
    "#                   coords=({'MapUnit' : MapUnit,    \n",
    "#                            'SCID': SCID,\n",
    "#                            'soil_layer': soil_layer}) )\n",
    "temp0 = dsLook.rename({'BotDep': 'soil_layer'})\n",
    "var = ['PRID','Drain','CFRAG','SDTO','STPC','CLPC','BULK','TAWC',\n",
    "       'CECS','CECc','TEB','BSAT','ECEC','PHAQ',\n",
    "       'TCEQ','ORGC','TOTN','CNrt']\n",
    "\n",
    "for i in range(len(var)):\n",
    "    # CLM layers 0:3 in CLM are in WISE layer 0\n",
    "    temp = temp0[var[i]][:,:,0]\n",
    "    tempMerge = xr.concat([temp,temp,temp,temp],dim='soil_layer')\n",
    "\n",
    "    # CLM layer 4:5  in CLM are in WISE layer 1:2\n",
    "    temp = temp0[var[i]][:,:,1:3]\n",
    "    tempMerge = xr.concat([tempMerge,temp],dim='soil_layer')\n",
    "\n",
    "    # CLM layer 6:8  in CLM are in WISE layer 4:6\n",
    "    temp = temp0[var[i]][:,:,4:]\n",
    "    tempMerge = xr.concat([tempMerge,temp],dim='soil_layer')\n",
    "\n",
    "    # CLM layer 9  in CLM are in WISE layer 6\n",
    "    temp = temp0[var[i]][:,:,6]\n",
    "    tempMerge = xr.concat([tempMerge,temp],dim='soil_layer')\n",
    "    if i == 0:\n",
    "        dsOUT = tempMerge.to_dataset(name=var[i])\n",
    "    else:\n",
    "        dsOUT[var[i]] = tempMerge\n",
    "\n",
    "# switch to CLM soil layer convention\n",
    "dsOUT['soil_layer'] = soil_layer\n",
    "dsOUT['ORGC'].isel(MapUnit=100,SCID=0).plot() ; \n",
    "dsOUT.attrs = dsLook.attrs\n",
    "dsOUT['ZSOI'] = dsCLM.ZSOI.rename({'number_of_layers':'soil_layer'})\n",
    "dsOUT['DZSOI']= dsCLM.DZSOI.rename({'number_of_layers':'soil_layer'})\n",
    "dsOUT = dsOUT.transpose(\"MapUnit\", \"SCID\", \"soil_layer\")\n",
    "#dsOUT"
   ]
  },
  {
   "cell_type": "markdown",
   "id": "de13371d",
   "metadata": {},
   "source": [
    "## open .tif as rioxarray to bring in meta and projection data"
   ]
  },
  {
   "cell_type": "code",
   "execution_count": 11,
   "id": "2288e300",
   "metadata": {},
   "outputs": [],
   "source": [
    "with dask.config.set(**{'array.slicing.split_large_chunks': True}):\n",
    "    rds = rioxarray.open_rasterio(infile)\n",
    "\n",
    "rds = rds.rename({'x': 'lon','y': 'lat'})\n",
    "rds = rds.isel(band=0).to_dataset(name='MU')\n",
    "rds = rds.reset_coords(names=['spatial_ref','band'], drop=True)\n",
    "rds = rds.astype(int)\n",
    "rds = rds.where(rds>0)\n",
    "rds = rds.load()\n",
    "_ = wait(rds)"
   ]
  },
  {
   "cell_type": "code",
   "execution_count": 12,
   "id": "7955834d",
   "metadata": {},
   "outputs": [
    {
     "name": "stdout",
     "output_type": "stream",
     "text": [
      "gridded unique profiles = 16414\n",
      "Lookup unique profiles = 16413\n",
      " -- grid has extra value for missing data, ocean -- \n"
     ]
    }
   ],
   "source": [
    "## Check to see that dimensions are the same for lookup table and grid\n",
    "df  = rds.to_dataframe()\n",
    "df.MU.attrs['_FillValue'] = 0\n",
    "print('gridded unique profiles = ' + str(len(df.MU.unique()) ) )\n",
    "print('Lookup unique profiles = ' + str(len(dsOUT.MapUnit) ) )\n",
    "print(' -- grid has extra value for missing data, ocean -- ')"
   ]
  },
  {
   "cell_type": "code",
   "execution_count": 13,
   "id": "194bd72c",
   "metadata": {},
   "outputs": [
    {
     "name": "stdout",
     "output_type": "stream",
     "text": [
      "min mapunit lookup = 2, grid =2.0\n",
      "max mapunit lookup = 32156, grid =32156.0\n"
     ]
    }
   ],
   "source": [
    "df.MU = df.MU.where(df.MU>0)\n",
    "print('min mapunit lookup = '+str(dsOUT['MapUnit'].values.min())+', grid ='+str(df.MU.min()) )\n",
    "print('max mapunit lookup = '+str(dsOUT['MapUnit'].values.max())+', grid ='+str(df.MU.max()) )"
   ]
  },
  {
   "cell_type": "code",
   "execution_count": 14,
   "id": "164b8cdb",
   "metadata": {},
   "outputs": [],
   "source": [
    "## now merge the datasets \n",
    "rds.MU.attrs['long_name']= 'WISE30sec MapUnit'\n",
    "ds = xr.merge([rds,dsOUT])\n",
    "ds = ds.rename({'SDTO':'PCT_SAND',\n",
    "                'STPC':'PCT_SILT',\n",
    "                'CLPC':'PCT_CLAY',\n",
    "               })\n",
    "ds.attrs = dsOUT.attrs\n",
    "ds.load()\n",
    "_ = wait(ds)"
   ]
  },
  {
   "cell_type": "code",
   "execution_count": 17,
   "id": "b38bde12",
   "metadata": {},
   "outputs": [
    {
     "name": "stdout",
     "output_type": "stream",
     "text": [
      "wrote /glade/scratch/wwieder/wise_30sec_v1/WISE30sec/Interchangeable_format/wise_30sec_v1.nc\n"
     ]
    }
   ],
   "source": [
    "## Write out .nc file\n",
    "fout = path + 'wise_30sec_v1.nc'\n",
    "ds.to_netcdf(fout)\n",
    "print('wrote '+fout)"
   ]
  },
  {
   "cell_type": "code",
   "execution_count": 18,
   "id": "7b3f9a67",
   "metadata": {},
   "outputs": [
    {
     "data": {
      "image/png": "[encoded data removed]",
      "text/plain": [
       "<Figure size 432x288 with 2 Axes>"
      ]
     },
     "metadata": {
      "needs_background": "light"
     },
     "output_type": "display_data"
    }
   ],
   "source": [
    "# This takes forver, or overloads memory\n",
    "ds.MU.plot() ;"
   ]
  },
  {
   "cell_type": "markdown",
   "id": "8f8b292c",
   "metadata": {},
   "source": [
    "-------"
   ]
  },
  {
   "cell_type": "code",
   "execution_count": 19,
   "id": "3510fe72",
   "metadata": {},
   "outputs": [
    {
     "name": "stdout",
     "output_type": "stream",
     "text": [
      "Last updated: 2022-03-17\n",
      "\n",
      "Python implementation: CPython\n",
      "Python version       : 3.7.12\n",
      "IPython version      : 7.31.1\n",
      "\n",
      "Git hash: cd3e934a9f0db49cef03b3323cab67400d61c542\n",
      "\n",
      "Git repo: git@github.com:wwieder/ctsm_py.git\n",
      "\n",
      "Git branch: master\n",
      "\n",
      "numpy     : 1.21.5\n",
      "dask      : 2021.10.0\n",
      "rioxarray : 0.8.0\n",
      "sys       : 3.7.12 | packaged by conda-forge | (default, Oct 26 2021, 06:08:53) \n",
      "[GCC 9.4.0]\n",
      "xarray    : 0.20.2\n",
      "json      : 2.0.9\n",
      "matplotlib: 3.5.1\n",
      "pandas    : 1.3.5\n",
      "\n"
     ]
    }
   ],
   "source": [
    "# https://github.com/rasbt/watermark\n",
    "%load_ext watermark\n",
    "%watermark --updated --date --iversions --gitrepo --gitbranch --githash --python"
   ]
  },
  {
   "cell_type": "code",
   "execution_count": null,
   "id": "742a00c0",
   "metadata": {},
   "outputs": [],
   "source": []
  }
 ],
 "metadata": {
  "kernelspec": {
   "display_name": "Python [conda env:miniconda3-tiff2nc]",
   "language": "python",
   "name": "conda-env-miniconda3-tiff2nc-py"
  },
  "language_info": {
   "codemirror_mode": {
    "name": "ipython",
    "version": 3
   },
   "file_extension": ".py",
   "mimetype": "text/x-python",
   "name": "python",
   "nbconvert_exporter": "python",
   "pygments_lexer": "ipython3",
   "version": "3.7.12"
  }
 },
 "nbformat": 4,
 "nbformat_minor": 5
}
