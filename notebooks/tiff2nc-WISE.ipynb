{
 "cells": [
  {
   "cell_type": "markdown",
   "id": "942e8d43",
   "metadata": {
    "tags": []
   },
   "source": [
    "## tiff2nc-WISE\n",
    "- Created by Will Wieder\n",
    "- March 2022\n",
    "\n",
    "### Converts geoTiff file from WISE to .nc files for use in mksurf\n",
    "\n",
    "Combines gridded map units at 30sec resolution (1km) with Lookup table with soil properties.\n",
    "\n",
    "Lookup table has 3 coordinates: \n",
    "- Map units that correspond to the gridded maps, which have information from \n",
    "- Multiple soil profiles (ranked in order of abundance), each with \n",
    "- Depth resolved properties, 7 vertical layers (0-2m depth)\n",
    "\n",
    "#### Data available at [isric website](https://data.isric.org/geonetwork/srv/eng/catalog.search#/metadata/dc7b283a-8f19-45e1-aaed-e9bd515119bc/formatters/xsl-view?root=div&view=advanced&approved=true)\n",
    "\n",
    "\n",
    "retrieved with the following command:\n",
    "\n",
    "`wget https://files.isric.org/public/wise/wise_30sec_v1.zip `\n",
    "\n",
    "Finally, information about units & conversions for each variable are here: \n",
    "- Batjes NH 2016. Harmonised soil property values for broad-scale modelling (WISE30sec) with estimates of global soil carbon stocks. [Geoderma 2016(269), 61-68](http://dx.doi.org/10.1016/j.geoderma.2016.01.034) and\n",
    "- Technical documentation [provided here](https://library.wur.nl/WebQuery/wurpubs/fulltext/400244)\n",
    "\n",
    "The last plotting cell overloads memory, even using dask workers, as below.\n",
    "\n",
    "Instead, getting 100GB of memory seems through JupyterHub seems to work."
   ]
  },
  {
   "cell_type": "code",
   "execution_count": 1,
   "id": "8ea98d46",
   "metadata": {},
   "outputs": [],
   "source": [
    "import numpy as np\n",
    "import pandas as pd\n",
    "import xarray as xr\n",
    "import rioxarray\n",
    "import h5netcdf\n",
    "#from affine import Affine\n",
    "import matplotlib.pyplot as plt\n",
    "from glob import glob\n",
    "import dask\n",
    "from distributed import wait\n",
    "import warnings\n",
    "warnings.simplefilter(\"ignore\", category=RuntimeWarning)\n",
    "\n",
    "%matplotlib inline"
   ]
  },
  {
   "cell_type": "markdown",
   "id": "45b99b7c",
   "metadata": {},
   "source": [
    "## point to raw datasets"
   ]
  },
  {
   "cell_type": "code",
   "execution_count": 2,
   "id": "3fd406fd",
   "metadata": {},
   "outputs": [],
   "source": [
    "path ='/glade/scratch/wwieder/wise_30sec_v1/WISE30sec/Interchangeable_format/'\n",
    "infile = path + 'wise_30sec_v1.tif'\n",
    "Lookup = path + 'HW30s_FULL.txt'"
   ]
  },
  {
   "cell_type": "code",
   "execution_count": 3,
   "id": "ac5101e9",
   "metadata": {},
   "outputs": [
    {
     "name": "stdout",
     "output_type": "stream",
     "text": [
      "Lookup unique profiles = 16413\n"
     ]
    },
    {
     "data": {
      "text/html": [
       "<div>\n",
       "<style scoped>\n",
       "    .dataframe tbody tr th:only-of-type {\n",
       "        vertical-align: middle;\n",
       "    }\n",
       "\n",
       "    .dataframe tbody tr th {\n",
       "        vertical-align: top;\n",
       "    }\n",
       "\n",
       "    .dataframe thead th {\n",
       "        text-align: right;\n",
       "    }\n",
       "</style>\n",
       "<table border=\"1\" class=\"dataframe\">\n",
       "  <thead>\n",
       "    <tr style=\"text-align: right;\">\n",
       "      <th></th>\n",
       "      <th>NEWSUID</th>\n",
       "      <th>SCID</th>\n",
       "      <th>PROP</th>\n",
       "      <th>CLAF</th>\n",
       "      <th>PRID</th>\n",
       "      <th>Drain</th>\n",
       "      <th>DrainNum</th>\n",
       "      <th>Layer</th>\n",
       "      <th>TopDep</th>\n",
       "      <th>BotDep</th>\n",
       "      <th>...</th>\n",
       "      <th>ESP</th>\n",
       "      <th>ESP_std</th>\n",
       "      <th>PHAQ</th>\n",
       "      <th>PHAQ_std</th>\n",
       "      <th>TCEQ</th>\n",
       "      <th>TCEQ_std</th>\n",
       "      <th>GYPS</th>\n",
       "      <th>GYPS_std</th>\n",
       "      <th>ELCO</th>\n",
       "      <th>ELCO_std</th>\n",
       "    </tr>\n",
       "  </thead>\n",
       "  <tbody>\n",
       "    <tr>\n",
       "      <th>0</th>\n",
       "      <td>WD10001666</td>\n",
       "      <td>1.0</td>\n",
       "      <td>70.0</td>\n",
       "      <td>RGe</td>\n",
       "      <td>RGe/A</td>\n",
       "      <td>S</td>\n",
       "      <td>6.0</td>\n",
       "      <td>D2</td>\n",
       "      <td>20.0</td>\n",
       "      <td>40.0</td>\n",
       "      <td>...</td>\n",
       "      <td>4.0</td>\n",
       "      <td>3.0</td>\n",
       "      <td>6.4</td>\n",
       "      <td>0.6</td>\n",
       "      <td>0.0</td>\n",
       "      <td>0.0</td>\n",
       "      <td>29.0</td>\n",
       "      <td>33.0</td>\n",
       "      <td>1.0</td>\n",
       "      <td>1.0</td>\n",
       "    </tr>\n",
       "    <tr>\n",
       "      <th>193</th>\n",
       "      <td>WD10001666</td>\n",
       "      <td>1.0</td>\n",
       "      <td>70.0</td>\n",
       "      <td>RGe</td>\n",
       "      <td>RGe/A</td>\n",
       "      <td>S</td>\n",
       "      <td>6.0</td>\n",
       "      <td>D3</td>\n",
       "      <td>40.0</td>\n",
       "      <td>60.0</td>\n",
       "      <td>...</td>\n",
       "      <td>4.0</td>\n",
       "      <td>3.0</td>\n",
       "      <td>6.5</td>\n",
       "      <td>0.6</td>\n",
       "      <td>0.0</td>\n",
       "      <td>0.0</td>\n",
       "      <td>6.0</td>\n",
       "      <td>7.0</td>\n",
       "      <td>1.0</td>\n",
       "      <td>1.3</td>\n",
       "    </tr>\n",
       "    <tr>\n",
       "      <th>155698</th>\n",
       "      <td>WD10001666</td>\n",
       "      <td>2.0</td>\n",
       "      <td>30.0</td>\n",
       "      <td>LPq</td>\n",
       "      <td>LPq/A</td>\n",
       "      <td>E</td>\n",
       "      <td>7.0</td>\n",
       "      <td>D1</td>\n",
       "      <td>0.0</td>\n",
       "      <td>20.0</td>\n",
       "      <td>...</td>\n",
       "      <td>3.0</td>\n",
       "      <td>2.0</td>\n",
       "      <td>6.7</td>\n",
       "      <td>1.3</td>\n",
       "      <td>0.0</td>\n",
       "      <td>0.0</td>\n",
       "      <td>3.0</td>\n",
       "      <td>6.0</td>\n",
       "      <td>1.0</td>\n",
       "      <td>1.0</td>\n",
       "    </tr>\n",
       "    <tr>\n",
       "      <th>156294</th>\n",
       "      <td>WD10001666</td>\n",
       "      <td>2.0</td>\n",
       "      <td>30.0</td>\n",
       "      <td>LPq</td>\n",
       "      <td>LPq/A</td>\n",
       "      <td>-7</td>\n",
       "      <td>-9.0</td>\n",
       "      <td>D2</td>\n",
       "      <td>20.0</td>\n",
       "      <td>40.0</td>\n",
       "      <td>...</td>\n",
       "      <td>-7.0</td>\n",
       "      <td>-7.0</td>\n",
       "      <td>-7.0</td>\n",
       "      <td>-7.0</td>\n",
       "      <td>-7.0</td>\n",
       "      <td>-7.0</td>\n",
       "      <td>-7.0</td>\n",
       "      <td>-7.0</td>\n",
       "      <td>-7.0</td>\n",
       "      <td>-7.0</td>\n",
       "    </tr>\n",
       "    <tr>\n",
       "      <th>156890</th>\n",
       "      <td>WD10001666</td>\n",
       "      <td>2.0</td>\n",
       "      <td>30.0</td>\n",
       "      <td>LPq</td>\n",
       "      <td>LPq/A</td>\n",
       "      <td>-7</td>\n",
       "      <td>-9.0</td>\n",
       "      <td>D3</td>\n",
       "      <td>40.0</td>\n",
       "      <td>60.0</td>\n",
       "      <td>...</td>\n",
       "      <td>-7.0</td>\n",
       "      <td>-7.0</td>\n",
       "      <td>-7.0</td>\n",
       "      <td>-7.0</td>\n",
       "      <td>-7.0</td>\n",
       "      <td>-7.0</td>\n",
       "      <td>-7.0</td>\n",
       "      <td>-7.0</td>\n",
       "      <td>-7.0</td>\n",
       "      <td>-7.0</td>\n",
       "    </tr>\n",
       "  </tbody>\n",
       "</table>\n",
       "<p>5 rows × 51 columns</p>\n",
       "</div>"
      ],
      "text/plain": [
       "           NEWSUID  SCID  PROP CLAF   PRID Drain  DrainNum Layer  TopDep  \\\n",
       "0       WD10001666   1.0  70.0  RGe  RGe/A     S       6.0    D2    20.0   \n",
       "193     WD10001666   1.0  70.0  RGe  RGe/A     S       6.0    D3    40.0   \n",
       "155698  WD10001666   2.0  30.0  LPq  LPq/A     E       7.0    D1     0.0   \n",
       "156294  WD10001666   2.0  30.0  LPq  LPq/A    -7      -9.0    D2    20.0   \n",
       "156890  WD10001666   2.0  30.0  LPq  LPq/A    -7      -9.0    D3    40.0   \n",
       "\n",
       "        BotDep  ...  ESP  ESP_std  PHAQ  PHAQ_std  TCEQ  TCEQ_std  GYPS  \\\n",
       "0         40.0  ...  4.0      3.0   6.4       0.6   0.0       0.0  29.0   \n",
       "193       60.0  ...  4.0      3.0   6.5       0.6   0.0       0.0   6.0   \n",
       "155698    20.0  ...  3.0      2.0   6.7       1.3   0.0       0.0   3.0   \n",
       "156294    40.0  ... -7.0     -7.0  -7.0      -7.0  -7.0      -7.0  -7.0   \n",
       "156890    60.0  ... -7.0     -7.0  -7.0      -7.0  -7.0      -7.0  -7.0   \n",
       "\n",
       "        GYPS_std ELCO  ELCO_std  \n",
       "0           33.0  1.0       1.0  \n",
       "193          7.0  1.0       1.3  \n",
       "155698       6.0  1.0       1.0  \n",
       "156294      -7.0 -7.0      -7.0  \n",
       "156890      -7.0 -7.0      -7.0  \n",
       "\n",
       "[5 rows x 51 columns]"
      ]
     },
     "execution_count": 3,
     "metadata": {},
     "output_type": "execute_result"
    }
   ],
   "source": [
    "lookup = pd.read_csv(Lookup, sep=',')\n",
    "print('Lookup unique profiles = ' + str(len(lookup.NEWSUID.unique()) ) )\n",
    "lookup.where(lookup.NEWSUID == 'WD10001666').dropna().head()"
   ]
  },
  {
   "cell_type": "markdown",
   "id": "5f26857a",
   "metadata": {},
   "source": [
    "### Each mapping unit may have information about multiple profiles \n",
    "- this example has 2"
   ]
  },
  {
   "cell_type": "code",
   "execution_count": 4,
   "id": "e59dd851",
   "metadata": {},
   "outputs": [
    {
     "name": "stdout",
     "output_type": "stream",
     "text": [
      "[ 1666  6309  1700 ...  7230  6997 32091]\n",
      "16413\n"
     ]
    }
   ],
   "source": [
    "# Drop characters off the front of map units and conver to intiger\n",
    "lookup['MapUnit'] = (lookup.NEWSUID.str[4:]).astype(int)\n",
    "print(lookup['MapUnit'].unique())\n",
    "print(len(lookup['MapUnit'].unique()))"
   ]
  },
  {
   "cell_type": "code",
   "execution_count": 5,
   "id": "c7d9e04d",
   "metadata": {},
   "outputs": [],
   "source": [
    "# convert to multi index and then create xarray dataset\n",
    "lookup = lookup.set_index(['MapUnit','SCID','BotDep']).sort_index()\n",
    "dsLook = lookup.to_xarray()\n",
    "#dsLook"
   ]
  },
  {
   "cell_type": "code",
   "execution_count": 66,
   "id": "f997d746",
   "metadata": {},
   "outputs": [],
   "source": [
    "# Convert to Xarray dataset for mapping to CLM structures\n",
    "# add meta data from Appendix 9 of technical documentation \n",
    "dsLook = lookup.to_xarray()\n",
    "dsLook.MapUnit.attrs['long_name'] = 'WISE mapping unit'\n",
    "dsLook.NEWSUID.attrs['long_name'] = 'Globally unique map unit code, see Appendix 4'\n",
    "dsLook.SCID.attrs['long_name'] = 'Number of soil unit within the given map unit (ranges from 1 to 10)'\n",
    "dsLook.PRID.attrs['long_name'] = 'profile ID (as documented in table HW30S_MapUnit, see Appendix 6)'\n",
    "dsLook.Drain.attrs['long_name'] = 'FAO soil drainage class'\n",
    "dsLook.TopDep.attrs['long_name']  = 'depth of top of layer'\n",
    "dsLook.TopDep.attrs['units'] = 'cm'\n",
    "dsLook.BotDep.attrs['long_name'] = 'depth of bottom of layer'\n",
    "dsLook.BotDep.attrs['units'] = 'cm'\n",
    "dsLook.CFRAG.attrs['long_name'] = 'coarse fragments'\n",
    "dsLook.CFRAG.attrs['units'] = 'vol% > 2 mm'\n",
    "\n",
    "dsLook.SDTO.attrs['long_name'] = 'sand'\n",
    "dsLook.SDTO.attrs['units']  = 'mass %'\n",
    "dsLook.STPC.attrs['long_name'] = 'silt'\n",
    "dsLook.STPC.attrs['units']  = 'mass %'\n",
    "dsLook.CLPC.attrs['long_name'] = 'clay'\n",
    "dsLook.CLPC.attrs['units']  = 'mass %'\n",
    "dsLook.BULK.attrs['long_name'] = 'bulk density'\n",
    "dsLook.BULK.attrs['units']  = '(kg dm^-3, g cm^-3)'\n",
    "dsLook.TAWC.attrs['long_name'] = 'available water capacity (-33 to -1500 kPa conform to USDA standards)'\n",
    "dsLook.TAWC.attrs['units'] = 'cm m^-1'\n",
    "\n",
    "dsLook.CECS.attrs['long_name'] = 'cation exchange capacity for fine earth fraction'\n",
    "dsLook.CECS.attrs['units'] = 'cmol_c kg^-1'\n",
    "dsLook.CECc.attrs['long_name'] = 'CECclay, corrected for contribution of organic matter'\n",
    "dsLook.CECc.attrs['units'] = 'cmol_c kg^-1'\n",
    "dsLook.TEB.attrs['long_name'] = 'total exchangeable bases'\n",
    "dsLook.TEB.attrs['units'] = 'cmol_c kg^-1'\n",
    "dsLook.BSAT.attrs['long_name'] = 'Base saturation as percentage of CECsoil'\n",
    "dsLook.BSAT.attrs['units'] = 'None'\n",
    "dsLook.ECEC.attrs['long_name'] = 'effective CEC'\n",
    "dsLook.ECEC.attrs['units'] = 'cmol_c kg^-1'\n",
    "\n",
    "dsLook.PHAQ.attrs['long_name'] = 'pH measured in water'\n",
    "dsLook.PHAQ.attrs['units'] = 'None'\n",
    "dsLook.TCEQ.attrs['long_name'] = 'total carbonate equivalent'\n",
    "dsLook.TCEQ.attrs['units'] = 'gC kg^-1'\n",
    "dsLook.ORGC.attrs['long_name'] = 'organic carbon content'\n",
    "dsLook.ORGC.attrs['units'] = 'gC kg^-1'\n",
    "dsLook.TOTN.attrs['long_name'] = 'total nitrogen'\n",
    "dsLook.TOTN.attrs['units'] = 'gN kg^-1'\n",
    "dsLook.CNrt.attrs['long_name'] = 'C/N ratio'\n",
    "dsLook.CNrt.attrs['units'] = 'None'\n",
    "\n",
    "dsLook.attrs['sourceData'] = 'https://files.isric.org/public/wise/wise_30sec_v1.zip'\n",
    "dsLook.attrs['doucmentation'] = 'https://library.wur.nl/WebQuery/wurpubs/fulltext/400244'\n",
    "dsLook.attrs['publication'] = 'https://doi.org/10.1016/j.geoderma.2016.01.034'\n",
    "dsLook.attrs['accessed'] = '11 March, 2022'\n",
    "dsLook.attrs['notes'] = 'generated by Will Wieder'\n",
    "dsLook.attrs['sourceCode'] = 'ctsm_py/notebooks/tiff2nc-WISE.ipynb'"
   ]
  },
  {
   "cell_type": "code",
   "execution_count": 67,
   "id": "5b593a25",
   "metadata": {},
   "outputs": [
    {
     "name": "stdout",
     "output_type": "stream",
     "text": [
      "[0.0175 0.0451 0.0906 0.1656 0.2892 0.493  0.829  1.3829 2.2962 3.4332]\n",
      "[0.2 0.4 0.6 0.8 1.  1.5 2. ]\n"
     ]
    },
    {
     "data": {
      "image/png": "[encoded data removed]",
      "text/plain": [
       "<Figure size 432x288 with 2 Axes>"
      ]
     },
     "metadata": {
      "needs_background": "light"
     },
     "output_type": "display_data"
    }
   ],
   "source": [
    "## Open file with target dimensions for CLM\n",
    "CLMin = '/glade/p/cesmdata/cseg/inputdata/lnd/clm2/rawdata/mksrf_soitex.10level.c010119.nc'\n",
    "dsCLM = xr.open_dataset(CLMin)\n",
    "print(dsCLM.ZSOI.values)\n",
    "print((dsLook.BotDep/100).values[0:7])\n",
    "plt.subplot(1,2,1)\n",
    "dsCLM.PCT_SAND.sel(max_value_mapunit=37).plot(y='number_of_layers') \n",
    "plt.gca().invert_yaxis();\n",
    "plt.subplot(1,2,2)\n",
    "dsLook.SDTO.isel(MapUnit = 2, SCID=0).plot(y='BotDep')\n",
    "plt.gca().invert_yaxis();"
   ]
  },
  {
   "cell_type": "markdown",
   "id": "36ef59b9",
   "metadata": {},
   "source": [
    "- CLM layers 0-3 (<0.16) are 0-20 cm for WISE [0]\n",
    "- CLM layer 4 (0.29) is 20-40 cm for WISE\n",
    "- CLM layer 5 (0.49) is 40-60 cm for WISE\n",
    "* no CLM layer for WISE data 60-80\n",
    "- CLM layer 6 (0.83) is 80-100 cm for WISE\n",
    "- CLM layer 7 (1.38) is 100-150 cm for WISE\n",
    "- CLM layers 8-9 are 150-200 cm for WISE\n",
    "#### make a new output datset with 10 layers, cooresponding to CLM layers\n"
   ]
  },
  {
   "cell_type": "code",
   "execution_count": 68,
   "id": "a581df91",
   "metadata": {},
   "outputs": [
    {
     "data": {
      "image/png": "[encoded data removed]",
      "text/plain": [
       "<Figure size 432x288 with 1 Axes>"
      ]
     },
     "metadata": {
      "needs_background": "light"
     },
     "output_type": "display_data"
    }
   ],
   "source": [
    "MapUnit = dsLook.MapUnit\n",
    "SCID = dsLook.SCID\n",
    "soil_layer = dsCLM.number_of_layers.rename({'number_of_layers':'soil_layer'})\n",
    "#dsOUT = xr.Dataset(data_vars=None,\n",
    "#                   coords=({'MapUnit' : MapUnit,    \n",
    "#                            'SCID': SCID,\n",
    "#                            'soil_layer': soil_layer}) )\n",
    "temp0 = dsLook.rename({'BotDep': 'soil_layer'})\n",
    "## leaving out PRID and DRAIN, as these don't play nicely with scripts later on\n",
    "var = ['CFRAG','SDTO','STPC','CLPC','BULK','TAWC',\n",
    "       'CECS','CECc','TEB','BSAT','ECEC','PHAQ',\n",
    "       'TCEQ','ORGC','TOTN','CNrt']\n",
    "varType = ['int16','int16','int16','int16','float32','int16',\n",
    "           'float32','float32','float32','int16','float32','float32',\n",
    "           'float32','float32','float32','float32']\n",
    "\n",
    "for i in range(len(var)):\n",
    "    # CLM layers 0:3 in CLM are in WISE layer 0\n",
    "    temp = temp0[var[i]][:,:,0]\n",
    "    tempMerge = xr.concat([temp,temp,temp,temp],dim='soil_layer')\n",
    "\n",
    "    # CLM layer 4:5  in CLM are in WISE layer 1:2\n",
    "    temp = temp0[var[i]][:,:,1:3]\n",
    "    tempMerge = xr.concat([tempMerge,temp],dim='soil_layer')\n",
    "\n",
    "    # CLM layer 6:8  in CLM are in WISE layer 4:6\n",
    "    temp = temp0[var[i]][:,:,4:]\n",
    "    tempMerge = xr.concat([tempMerge,temp],dim='soil_layer')\n",
    "\n",
    "    # CLM layer 9  in CLM are in WISE layer 6\n",
    "    temp = temp0[var[i]][:,:,6]\n",
    "    tempMerge = xr.concat([tempMerge,temp],dim='soil_layer')\n",
    "\n",
    "    # sete missing values to -999\n",
    "    FillValue = -999.\n",
    "    tempMerge = tempMerge.where(tempMerge>-10,FillValue)\n",
    "    tempMerge.attrs['_FillValue'] = FillValue\n",
    "    #tempMerge.attrs['missing_value'] = FillValue\n",
    "    tempMerge = tempMerge.astype(varType[i])\n",
    "\n",
    "    if i == 0:\n",
    "        dsOUT = tempMerge.to_dataset(name=var[i])\n",
    "    else:\n",
    "        dsOUT[var[i]] = tempMerge\n",
    "\n",
    "# switch to CLM soil layer convention\n",
    "dsOUT['soil_layer'] = soil_layer\n",
    "dsOUT['ORGC'].isel(MapUnit=100,SCID=0).plot() ; \n",
    "dsOUT.attrs = dsLook.attrs\n",
    "dsOUT['ZSOI'] = dsCLM.ZSOI.rename({'number_of_layers':'soil_layer'})\n",
    "dsOUT['DZSOI']= dsCLM.DZSOI.rename({'number_of_layers':'soil_layer'})\n",
    "dsOUT['ZSOI'].attrs['_FillValue'] = -1e36\n",
    "dsOUT['DZSOI'].attrs['_FillValue'] = -1e36\n",
    "dsOUT = dsOUT.transpose(\"MapUnit\", \"SCID\", \"soil_layer\")\n",
    "dsOUT = dsOUT.rename({'SDTO':'PCT_SAND',\n",
    "                      'STPC':'PCT_SILT',\n",
    "                      'CLPC':'PCT_CLAY',\n",
    "                     })"
   ]
  },
  {
   "cell_type": "markdown",
   "id": "5be1ee8d",
   "metadata": {},
   "source": [
    "*Notes from Appendix 7:* A minus 8 indicates that no meaningful substitution was possible for the specified ‘soil unit/climate’ cluster and attribute\n",
    "using TTR based on the present selection of soil profiles, -1 is used for Oceans and inland waters, -2 for Glaciers and snow caps,\n",
    "-3 for rock outcrops (resp. -7 for ‘rocky’ subsoils as for Leptosols), -4 for Dunes/Shifting sands, -5 for Salt flats, and -9 for all\n",
    "remaining miscellaneous units mainly to facilitate visualization using GIS.\n",
    "\n",
    "- For purposes of generating the soil properties needed in CLM do we need to just extend values from the bottom layer that's not missing "
   ]
  },
  {
   "cell_type": "code",
   "execution_count": 69,
   "id": "b5d1458f",
   "metadata": {},
   "outputs": [
    {
     "data": {
      "image/png": "[encoded data removed]",
      "text/plain": [
       "<Figure size 432x288 with 1 Axes>"
      ]
     },
     "metadata": {
      "needs_background": "light"
     },
     "output_type": "display_data"
    }
   ],
   "source": [
    "dsOUT['CFRAG'].isel(MapUnit=3378,SCID=0).plot() ; \n",
    "#dsOUT"
   ]
  },
  {
   "cell_type": "code",
   "execution_count": 70,
   "id": "d9b21575",
   "metadata": {},
   "outputs": [
    {
     "data": {
      "image/png": "[encoded data removed]",
      "text/plain": [
       "<Figure size 432x288 with 1 Axes>"
      ]
     },
     "metadata": {
      "needs_background": "light"
     },
     "output_type": "display_data"
    }
   ],
   "source": [
    "ORGANIC = dsOUT['ORGC'] *0.1 #* dsOUT['BULK'] * (100-dsOUT['CFRAG']) / 100 / 0.58\n",
    "ORGANIC.sel(MapUnit=3465).isel(SCID=0).plot(y='soil_layer') ;\n",
    "ORGANIC.sel(MapUnit=3379).isel(SCID=0).plot(y='soil_layer') ;\n",
    "ORGANIC.sel(MapUnit=9037).isel(SCID=0).plot(y='soil_layer') ;\n",
    "plt.gca().invert_yaxis()\n",
    "#plt.xlabel('ORGANIC, (kg OM/m3)')\n",
    "plt.xlabel('ORGC, (%C)')\n",
    "plt.title('Sample Arctic Map Units') ;"
   ]
  },
  {
   "cell_type": "code",
   "execution_count": 71,
   "id": "86f8de38-6c5d-4281-8ffa-460bda2add8b",
   "metadata": {},
   "outputs": [
    {
     "data": {
      "image/png": "[encoded data removed]",
      "text/plain": [
       "<Figure size 432x288 with 1 Axes>"
      ]
     },
     "metadata": {
      "needs_background": "light"
     },
     "output_type": "display_data"
    }
   ],
   "source": [
    "ORGANIC = dsOUT['BULK'] #* dsOUT['BULK'] * (100-dsOUT['CFRAG']) / 100 / 0.58\n",
    "ORGANIC.sel(MapUnit=3465).isel(SCID=0).plot(y='soil_layer') ;\n",
    "ORGANIC.sel(MapUnit=3379).isel(SCID=0).plot(y='soil_layer') ;\n",
    "ORGANIC.sel(MapUnit=9037).isel(SCID=0).plot(y='soil_layer') ;\n",
    "plt.gca().invert_yaxis()"
   ]
  },
  {
   "cell_type": "code",
   "execution_count": 72,
   "id": "6c07d93d-e1d1-41d1-80e9-63c0eac2f969",
   "metadata": {},
   "outputs": [
    {
     "data": {
      "text/plain": [
       "array([0.96, 0.96, 0.96, 0.96, 1.3 , 1.37, 1.45, 1.43, 1.59, 1.59],\n",
       "      dtype=float32)"
      ]
     },
     "execution_count": 72,
     "metadata": {},
     "output_type": "execute_result"
    }
   ],
   "source": [
    "ORGANIC.isel(SCID=0,soil_layer=0).sel(MapUnit=slice(9000,9050)).values \n",
    "ORGANIC.sel(MapUnit=9000).isel(SCID=0).values"
   ]
  },
  {
   "cell_type": "code",
   "execution_count": 73,
   "id": "4cd37539",
   "metadata": {},
   "outputs": [
    {
     "name": "stdout",
     "output_type": "stream",
     "text": [
      "wrote /glade/scratch/wwieder/wise_30sec_v1/WISE30sec/Interchangeable_format/wise_30sec_v1_lookup.nc\n"
     ]
    }
   ],
   "source": [
    "## Write out .nc file\n",
    "fout = path + 'wise_30sec_v1_lookup.nc'\n",
    "dsOUT.to_netcdf(fout, engine=\"netcdf4\", format='NETCDF3_64BIT',\n",
    "                encoding={'soil_layer': {'dtype': 'i4'},\n",
    "                          'MapUnit' : {'dtype': 'i4'},\n",
    "                          'SCID': {'dtype': 'i4'},\n",
    "                          'PCT_SAND': {'dtype': 'i4'},\n",
    "                          'PCT_SILT': {'dtype': 'i4'},\n",
    "                          'PCT_CLAY': {'dtype': 'i4'},\n",
    "                          'CFRAG': {'dtype': 'i4'},\n",
    "                          'TAWC': {'dtype': 'i4'},\n",
    "                          'BSAT': {'dtype': 'i4'},\n",
    "                         })\n",
    "print('wrote '+fout)"
   ]
  },
  {
   "cell_type": "markdown",
   "id": "277d3505",
   "metadata": {},
   "source": [
    "**Then manually set to .nc5**\n",
    "`nccopy -k cdf5 /glade/scratch/wwieder/wise_30sec_v1/WISE30sec/Interchangeable_format/wise_30sec_v1_lookup.nc /glade/scratch/wwieder/wise_30sec_v1/WISE30sec/Interchangeable_format/wise_30sec_v1_lookup2.nc`"
   ]
  },
  {
   "cell_type": "markdown",
   "id": "1bc1f3f5",
   "metadata": {},
   "source": [
    "## open .tif as rioxarray to bring in meta and projection data"
   ]
  },
  {
   "cell_type": "code",
   "execution_count": 74,
   "id": "51adb1a9",
   "metadata": {},
   "outputs": [],
   "source": [
    "#with dask.config.set(**{'array.slicing.split_large_chunks': True}):\n",
    "rds = rioxarray.open_rasterio(infile)\n",
    "rds = rds.rename({'x': 'lon','y': 'lat'})\n",
    "rds = rds.isel(band=0).to_dataset(name='MU')\n",
    "rds = rds.reset_coords(names=['spatial_ref','band'], drop=True)\n",
    "rds['MU'] = rds['MU'].astype(int)\n",
    "FillValue = 0\n",
    "rds['MU'] = rds['MU'].where(rds['MU']>0, FillValue)\n",
    "rds['MU'].attrs['_FillValue'] = FillValue\n",
    "rds = rds.load()\n",
    "rds = rds.isel(lon=slice(0,-1)) # remove last (extra?) lat value (>180 E)\n",
    "#_ = wait(rds)"
   ]
  },
  {
   "cell_type": "code",
   "execution_count": 75,
   "id": "efa048b2",
   "metadata": {},
   "outputs": [
    {
     "name": "stdout",
     "output_type": "stream",
     "text": [
      "gridded unique profiles = 16414\n",
      "Lookup unique profiles = 16413\n",
      " -- grid has extra value for missing data, ocean -- \n"
     ]
    }
   ],
   "source": [
    "## Check to see that dimensions are the same for lookup table and grid\n",
    "df  = rds.to_dataframe()\n",
    "df['MU'] = df.MU.astype('int').where(df.MU>0, FillValue)\n",
    "df.MU.attrs['_FillValue'] = FillValue\n",
    "df.MU.attrs['missing_value'] = FillValue\n",
    "print('gridded unique profiles = ' + str(len(df.MU.unique()) ) )\n",
    "print('Lookup unique profiles = ' + str(len(dsOUT.MapUnit) ) )\n",
    "print(' -- grid has extra value for missing data, ocean -- ')"
   ]
  },
  {
   "cell_type": "code",
   "execution_count": 76,
   "id": "da7e0f22",
   "metadata": {},
   "outputs": [
    {
     "name": "stdout",
     "output_type": "stream",
     "text": [
      "min mapunit lookup = 2, grid =0\n",
      "max mapunit lookup = 32156, grid =32156\n"
     ]
    }
   ],
   "source": [
    "print('min mapunit lookup = '+str(dsOUT['MapUnit'].values.min())+', grid ='+str(df.MU.min()) )\n",
    "print('max mapunit lookup = '+str(dsOUT['MapUnit'].values.max())+', grid ='+str(df.MU.max()) )"
   ]
  },
  {
   "cell_type": "code",
   "execution_count": 77,
   "id": "dbec3f47",
   "metadata": {},
   "outputs": [
    {
     "name": "stdout",
     "output_type": "stream",
     "text": [
      "lat min-max -179.99583333335, 179.99583189335004\n"
     ]
    },
    {
     "data": {
      "text/plain": [
       "{'_FillValue': 0,\n",
       " 'scale_factor': 1.0,\n",
       " 'add_offset': 0.0,\n",
       " 'long_name': array(b'WISE30sec MapUnit', dtype='|S30')}"
      ]
     },
     "execution_count": 77,
     "metadata": {},
     "output_type": "execute_result"
    }
   ],
   "source": [
    "import h5py\n",
    "utf8_type = h5py.string_dtype('utf-8', 30)\n",
    "s = 'WISE30sec MapUnit'\n",
    "rds.MU.attrs['long_name']= np.array(s.encode('utf-8'), dtype=utf8_type)\n",
    "rds.attrs = dsOUT.attrs\n",
    "\n",
    "latmin  = rds.lon.min().values\n",
    "latmax  = rds.lon.max().values\n",
    "print('lat min-max ' +str(latmin) +\", \"+str(latmax))\n",
    "rds.MU.attrs"
   ]
  },
  {
   "cell_type": "code",
   "execution_count": 78,
   "id": "0ec00da6",
   "metadata": {},
   "outputs": [
    {
     "name": "stdout",
     "output_type": "stream",
     "text": [
      "179.99999856000005\n",
      "-180.0\n",
      "180.0\n",
      "-179.9916666667\n"
     ]
    },
    {
     "data": {
      "text/plain": [
       "{'long_name': array(b'longitude', dtype='|S30'),\n",
       " 'standard_name': array(b'longitude', dtype='|S30'),\n",
       " 'units': array(b'degrees_east', dtype='|S30'),\n",
       " 'bounds': 'lon_bnds'}"
      ]
     },
     "execution_count": 78,
     "metadata": {},
     "output_type": "execute_result"
    }
   ],
   "source": [
    "lon = rds.lon.values\n",
    "lon_diff = lon[1:None] - lon[0:-1]\n",
    "lon_diff = np.append(lon_diff, np.mean(lon_diff))\n",
    "\n",
    "lat = rds.lat.values\n",
    "lat_diff = lat[1:None] - lat[0:-1]\n",
    "lat_diff = np.append(lat_diff, np.mean(lat_diff))\n",
    "lat_diff\n",
    "\n",
    "# create data arrays for _bnds\n",
    "bound = [0,1]\n",
    "lon_bnds = xr.DataArray(dims = ['lon','bound'],\n",
    "                        coords=dict(lon=lon, bound=bound),\n",
    "                        name='lon_bnds')\n",
    "\n",
    "lat_bnds = xr.DataArray(dims = ['lat','bound'],\n",
    "                        coords=dict(lat=lat, bound=bound),\n",
    "                        name='lat_bnds')\n",
    "\n",
    "lon_bnds[:,0] = lon - lon_diff*0.5\n",
    "lon_bnds[:,1] = lon + lon_diff*0.5\n",
    "lat_bnds[:,0] = lat - lat_diff*0.5\n",
    "lat_bnds[:,1] = lat + lat_diff*0.5\n",
    "\n",
    "\n",
    "## prevent values > 180 and < -180\n",
    "print(lon_bnds.max().values)\n",
    "print(lon_bnds.min().values)\n",
    "lon_bnds = lon_bnds.where(lon_bnds< 180, lon_bnds-360)\n",
    "lon_bnds = lon_bnds.where(lon_bnds>-180, lon_bnds+360)\n",
    "print(lon_bnds.max().values)\n",
    "print(lon_bnds.min().values)\n",
    "\n",
    "\n",
    "rds['lon_bnds']  = lon_bnds\n",
    "rds['lat_bnds']  = lat_bnds\n",
    "\n",
    "rds.lat.attrs['long_name']= np.array(('latitude').encode('utf-8'), dtype=utf8_type) \n",
    "rds.lat.attrs['standard_name']= np.array(('latitude').encode('utf-8'), dtype=utf8_type) \n",
    "rds.lat.attrs['units']= np.array(('degrees_north').encode('utf-8'), dtype=utf8_type) \n",
    "rds.lat.attrs['bounds'] = np.array(('lat_bnds').encode('utf-8'), dtype=utf8_type)\n",
    "rds.lat.attrs['bounds'] = 'lat_bnds'\n",
    "\n",
    "rds.lon.attrs['long_name']= np.array(('longitude').encode('utf-8'), dtype=utf8_type) \n",
    "rds.lon.attrs['standard_name']= np.array(('longitude').encode('utf-8'), dtype=utf8_type) \n",
    "rds.lon.attrs['units']= np.array(('degrees_east').encode('utf-8'), dtype=utf8_type) \n",
    "rds.lon.attrs['bounds'] = np.array(('lon_bnds').encode('utf-8'), dtype=utf8_type)\n",
    "rds.lon.attrs['bounds'] = 'lon_bnds'\n",
    "#print(rds['lon_bnds'].max().values)\n",
    "#print(rds['lon_bnds'].min().values)\n",
    "rds.lon.attrs"
   ]
  },
  {
   "cell_type": "code",
   "execution_count": 79,
   "id": "b8ce4e44",
   "metadata": {},
   "outputs": [
    {
     "name": "stdout",
     "output_type": "stream",
     "text": [
      "lon [0] = -179.99583333335, [-2] = 179.98749856005003\n",
      "\n",
      "lon_bnds [0,0] = 180.0, [-2,1] = 179.99166522670004\n",
      "\n",
      "spacing between lons = 0.00833333330001551\n"
     ]
    }
   ],
   "source": [
    "print('lon [0] = '+ \n",
    "      str(rds['lon'].isel(lon=0).values) +\n",
    "      ', [-2] = '+\n",
    "      str(rds['lon'].isel(lon=-2).values))\n",
    "\n",
    "print()\n",
    "      \n",
    "print('lon_bnds [0,0] = '+ \n",
    "      str(rds['lon_bnds'].isel(lon=0,bound=0).values) +\n",
    "      ', [-2,1] = '+\n",
    "      str(rds['lon_bnds'].isel(lon=-2,bound=1).values) )\n",
    "\n",
    "print()\n",
    "\n",
    "print('spacing between lons = '+str(lon_diff.max()) )"
   ]
  },
  {
   "cell_type": "code",
   "execution_count": 80,
   "id": "9b2d1d23",
   "metadata": {},
   "outputs": [],
   "source": [
    "# Add additional metadata for coordinates\n",
    "rds.lat.attrs['_FillValue'] = 1e-36\n",
    "rds.lon.attrs['_FillValue'] = 1e-36\n",
    "rds.lat_bnds.attrs['_FillValue'] = 1e-36\n",
    "rds.lon_bnds.attrs['_FillValue'] = 1e-36\n",
    "rds=rds.load()"
   ]
  },
  {
   "cell_type": "code",
   "execution_count": 81,
   "id": "9a7ef38d",
   "metadata": {},
   "outputs": [
    {
     "name": "stdout",
     "output_type": "stream",
     "text": [
      "wrote /glade/scratch/wwieder/wise_30sec_v1/WISE30sec/Interchangeable_format/wise_30sec_v1_grid.nc\n"
     ]
    }
   ],
   "source": [
    "## Write out .nc file\n",
    "fout = path + 'wise_30sec_v1_grid.nc'\n",
    "rds.to_netcdf(fout, \n",
    "              #engine=\"h5netcdf\",\n",
    "              engine=\"netcdf4\", #format='NETCDF3_64BIT',\n",
    "              encoding={'MU': {'dtype': 'i4'},\n",
    "                        'bound': {'dtype': 'i4'}, \n",
    "                       })\n",
    "print('wrote '+fout)"
   ]
  },
  {
   "cell_type": "markdown",
   "id": "e3eabd1f-46fe-43d5-9651-aab6fb2d05dd",
   "metadata": {},
   "source": [
    "**Then manually set to .nc5**\n",
    "\n",
    "`nccopy -k cdf5 /glade/scratch/wwieder/wise_30sec_v1/WISE30sec/Interchangeable_format/wise_30sec_v1_grid.nc /glade/scratch/wwieder/wise_30sec_v1/WISE30sec/Interchangeable_format/wise_30sec_v1_grid2.nc`\n"
   ]
  },
  {
   "cell_type": "markdown",
   "id": "334d2400-948b-4b49-aed5-5ba35c676ee4",
   "metadata": {},
   "source": [
    "-----------"
   ]
  },
  {
   "cell_type": "code",
   "execution_count": 19,
   "id": "5abadebb",
   "metadata": {},
   "outputs": [
    {
     "data": {
      "image/png": "[encoded data removed]",
      "text/plain": [
       "<Figure size 432x288 with 2 Axes>"
      ]
     },
     "metadata": {
      "needs_background": "light"
     },
     "output_type": "display_data"
    }
   ],
   "source": [
    "# This takes forver, or overloads memory\n",
    "rds.MU.plot() ;"
   ]
  },
  {
   "cell_type": "markdown",
   "id": "887dcbeb",
   "metadata": {},
   "source": [
    "-------"
   ]
  },
  {
   "cell_type": "code",
   "execution_count": 20,
   "id": "9d86e4c9",
   "metadata": {},
   "outputs": [
    {
     "name": "stdout",
     "output_type": "stream",
     "text": [
      "Last updated: 2022-04-02\n",
      "\n",
      "Python implementation: CPython\n",
      "Python version       : 3.7.12\n",
      "IPython version      : 7.31.1\n",
      "\n",
      "Git hash: 65351ae76ece1f0411708706f40d9af139179556\n",
      "\n",
      "Git repo: git@github.com:wwieder/ctsm_py.git\n",
      "\n",
      "Git branch: master\n",
      "\n",
      "rioxarray : 0.8.0\n",
      "numpy     : 1.21.5\n",
      "pandas    : 1.3.5\n",
      "matplotlib: 3.5.1\n",
      "xarray    : 0.20.2\n",
      "dask      : 2021.10.0\n",
      "sys       : 3.7.12 | packaged by conda-forge | (default, Oct 26 2021, 06:08:53) \n",
      "[GCC 9.4.0]\n",
      "json      : 2.0.9\n",
      "h5netcdf  : 0.0.0\n",
      "\n"
     ]
    }
   ],
   "source": [
    "# https://github.com/rasbt/watermark\n",
    "%load_ext watermark\n",
    "%watermark --updated --date --iversions --gitrepo --gitbranch --githash --python"
   ]
  },
  {
   "cell_type": "code",
   "execution_count": 21,
   "id": "819bf7cf",
   "metadata": {},
   "outputs": [
    {
     "data": {
      "text/html": [
       "<div><svg style=\"position: absolute; width: 0; height: 0; overflow: hidden\">\n",
       "<defs>\n",
       "<symbol id=\"icon-database\" viewBox=\"0 0 32 32\">\n",
       "<path d=\"M16 0c-8.837 0-16 2.239-16 5v4c0 2.761 7.163 5 16 5s16-2.239 16-5v-4c0-2.761-7.163-5-16-5z\"></path>\n",
       "<path d=\"M16 17c-8.837 0-16-2.239-16-5v6c0 2.761 7.163 5 16 5s16-2.239 16-5v-6c0 2.761-7.163 5-16 5z\"></path>\n",
       "<path d=\"M16 26c-8.837 0-16-2.239-16-5v6c0 2.761 7.163 5 16 5s16-2.239 16-5v-6c0 2.761-7.163 5-16 5z\"></path>\n",
       "</symbol>\n",
       "<symbol id=\"icon-file-text2\" viewBox=\"0 0 32 32\">\n",
       "<path d=\"M28.681 7.159c-0.694-0.947-1.662-2.053-2.724-3.116s-2.169-2.030-3.116-2.724c-1.612-1.182-2.393-1.319-2.841-1.319h-15.5c-1.378 0-2.5 1.121-2.5 2.5v27c0 1.378 1.122 2.5 2.5 2.5h23c1.378 0 2.5-1.122 2.5-2.5v-19.5c0-0.448-0.137-1.23-1.319-2.841zM24.543 5.457c0.959 0.959 1.712 1.825 2.268 2.543h-4.811v-4.811c0.718 0.556 1.584 1.309 2.543 2.268zM28 29.5c0 0.271-0.229 0.5-0.5 0.5h-23c-0.271 0-0.5-0.229-0.5-0.5v-27c0-0.271 0.229-0.5 0.5-0.5 0 0 15.499-0 15.5 0v7c0 0.552 0.448 1 1 1h7v19.5z\"></path>\n",
       "<path d=\"M23 26h-14c-0.552 0-1-0.448-1-1s0.448-1 1-1h14c0.552 0 1 0.448 1 1s-0.448 1-1 1z\"></path>\n",
       "<path d=\"M23 22h-14c-0.552 0-1-0.448-1-1s0.448-1 1-1h14c0.552 0 1 0.448 1 1s-0.448 1-1 1z\"></path>\n",
       "<path d=\"M23 18h-14c-0.552 0-1-0.448-1-1s0.448-1 1-1h14c0.552 0 1 0.448 1 1s-0.448 1-1 1z\"></path>\n",
       "</symbol>\n",
       "</defs>\n",
       "</svg>\n",
       "<style>/* CSS stylesheet for displaying xarray objects in jupyterlab.\n",
       " *\n",
       " */\n",
       "\n",
       ":root {\n",
       "  --xr-font-color0: var(--jp-content-font-color0, rgba(0, 0, 0, 1));\n",
       "  --xr-font-color2: var(--jp-content-font-color2, rgba(0, 0, 0, 0.54));\n",
       "  --xr-font-color3: var(--jp-content-font-color3, rgba(0, 0, 0, 0.38));\n",
       "  --xr-border-color: var(--jp-border-color2, #e0e0e0);\n",
       "  --xr-disabled-color: var(--jp-layout-color3, #bdbdbd);\n",
       "  --xr-background-color: var(--jp-layout-color0, white);\n",
       "  --xr-background-color-row-even: var(--jp-layout-color1, white);\n",
       "  --xr-background-color-row-odd: var(--jp-layout-color2, #eeeeee);\n",
       "}\n",
       "\n",
       "html[theme=dark],\n",
       "body.vscode-dark {\n",
       "  --xr-font-color0: rgba(255, 255, 255, 1);\n",
       "  --xr-font-color2: rgba(255, 255, 255, 0.54);\n",
       "  --xr-font-color3: rgba(255, 255, 255, 0.38);\n",
       "  --xr-border-color: #1F1F1F;\n",
       "  --xr-disabled-color: #515151;\n",
       "  --xr-background-color: #111111;\n",
       "  --xr-background-color-row-even: #111111;\n",
       "  --xr-background-color-row-odd: #313131;\n",
       "}\n",
       "\n",
       ".xr-wrap {\n",
       "  display: block !important;\n",
       "  min-width: 300px;\n",
       "  max-width: 700px;\n",
       "}\n",
       "\n",
       ".xr-text-repr-fallback {\n",
       "  /* fallback to plain text repr when CSS is not injected (untrusted notebook) */\n",
       "  display: none;\n",
       "}\n",
       "\n",
       ".xr-header {\n",
       "  padding-top: 6px;\n",
       "  padding-bottom: 6px;\n",
       "  margin-bottom: 4px;\n",
       "  border-bottom: solid 1px var(--xr-border-color);\n",
       "}\n",
       "\n",
       ".xr-header > div,\n",
       ".xr-header > ul {\n",
       "  display: inline;\n",
       "  margin-top: 0;\n",
       "  margin-bottom: 0;\n",
       "}\n",
       "\n",
       ".xr-obj-type,\n",
       ".xr-array-name {\n",
       "  margin-left: 2px;\n",
       "  margin-right: 10px;\n",
       "}\n",
       "\n",
       ".xr-obj-type {\n",
       "  color: var(--xr-font-color2);\n",
       "}\n",
       "\n",
       ".xr-sections {\n",
       "  padding-left: 0 !important;\n",
       "  display: grid;\n",
       "  grid-template-columns: 150px auto auto 1fr 20px 20px;\n",
       "}\n",
       "\n",
       ".xr-section-item {\n",
       "  display: contents;\n",
       "}\n",
       "\n",
       ".xr-section-item input {\n",
       "  display: none;\n",
       "}\n",
       "\n",
       ".xr-section-item input + label {\n",
       "  color: var(--xr-disabled-color);\n",
       "}\n",
       "\n",
       ".xr-section-item input:enabled + label {\n",
       "  cursor: pointer;\n",
       "  color: var(--xr-font-color2);\n",
       "}\n",
       "\n",
       ".xr-section-item input:enabled + label:hover {\n",
       "  color: var(--xr-font-color0);\n",
       "}\n",
       "\n",
       ".xr-section-summary {\n",
       "  grid-column: 1;\n",
       "  color: var(--xr-font-color2);\n",
       "  font-weight: 500;\n",
       "}\n",
       "\n",
       ".xr-section-summary > span {\n",
       "  display: inline-block;\n",
       "  padding-left: 0.5em;\n",
       "}\n",
       "\n",
       ".xr-section-summary-in:disabled + label {\n",
       "  color: var(--xr-font-color2);\n",
       "}\n",
       "\n",
       ".xr-section-summary-in + label:before {\n",
       "  display: inline-block;\n",
       "  content: '►';\n",
       "  font-size: 11px;\n",
       "  width: 15px;\n",
       "  text-align: center;\n",
       "}\n",
       "\n",
       ".xr-section-summary-in:disabled + label:before {\n",
       "  color: var(--xr-disabled-color);\n",
       "}\n",
       "\n",
       ".xr-section-summary-in:checked + label:before {\n",
       "  content: '▼';\n",
       "}\n",
       "\n",
       ".xr-section-summary-in:checked + label > span {\n",
       "  display: none;\n",
       "}\n",
       "\n",
       ".xr-section-summary,\n",
       ".xr-section-inline-details {\n",
       "  padding-top: 4px;\n",
       "  padding-bottom: 4px;\n",
       "}\n",
       "\n",
       ".xr-section-inline-details {\n",
       "  grid-column: 2 / -1;\n",
       "}\n",
       "\n",
       ".xr-section-details {\n",
       "  display: none;\n",
       "  grid-column: 1 / -1;\n",
       "  margin-bottom: 5px;\n",
       "}\n",
       "\n",
       ".xr-section-summary-in:checked ~ .xr-section-details {\n",
       "  display: contents;\n",
       "}\n",
       "\n",
       ".xr-array-wrap {\n",
       "  grid-column: 1 / -1;\n",
       "  display: grid;\n",
       "  grid-template-columns: 20px auto;\n",
       "}\n",
       "\n",
       ".xr-array-wrap > label {\n",
       "  grid-column: 1;\n",
       "  vertical-align: top;\n",
       "}\n",
       "\n",
       ".xr-preview {\n",
       "  color: var(--xr-font-color3);\n",
       "}\n",
       "\n",
       ".xr-array-preview,\n",
       ".xr-array-data {\n",
       "  padding: 0 5px !important;\n",
       "  grid-column: 2;\n",
       "}\n",
       "\n",
       ".xr-array-data,\n",
       ".xr-array-in:checked ~ .xr-array-preview {\n",
       "  display: none;\n",
       "}\n",
       "\n",
       ".xr-array-in:checked ~ .xr-array-data,\n",
       ".xr-array-preview {\n",
       "  display: inline-block;\n",
       "}\n",
       "\n",
       ".xr-dim-list {\n",
       "  display: inline-block !important;\n",
       "  list-style: none;\n",
       "  padding: 0 !important;\n",
       "  margin: 0;\n",
       "}\n",
       "\n",
       ".xr-dim-list li {\n",
       "  display: inline-block;\n",
       "  padding: 0;\n",
       "  margin: 0;\n",
       "}\n",
       "\n",
       ".xr-dim-list:before {\n",
       "  content: '(';\n",
       "}\n",
       "\n",
       ".xr-dim-list:after {\n",
       "  content: ')';\n",
       "}\n",
       "\n",
       ".xr-dim-list li:not(:last-child):after {\n",
       "  content: ',';\n",
       "  padding-right: 5px;\n",
       "}\n",
       "\n",
       ".xr-has-index {\n",
       "  font-weight: bold;\n",
       "}\n",
       "\n",
       ".xr-var-list,\n",
       ".xr-var-item {\n",
       "  display: contents;\n",
       "}\n",
       "\n",
       ".xr-var-item > div,\n",
       ".xr-var-item label,\n",
       ".xr-var-item > .xr-var-name span {\n",
       "  background-color: var(--xr-background-color-row-even);\n",
       "  margin-bottom: 0;\n",
       "}\n",
       "\n",
       ".xr-var-item > .xr-var-name:hover span {\n",
       "  padding-right: 5px;\n",
       "}\n",
       "\n",
       ".xr-var-list > li:nth-child(odd) > div,\n",
       ".xr-var-list > li:nth-child(odd) > label,\n",
       ".xr-var-list > li:nth-child(odd) > .xr-var-name span {\n",
       "  background-color: var(--xr-background-color-row-odd);\n",
       "}\n",
       "\n",
       ".xr-var-name {\n",
       "  grid-column: 1;\n",
       "}\n",
       "\n",
       ".xr-var-dims {\n",
       "  grid-column: 2;\n",
       "}\n",
       "\n",
       ".xr-var-dtype {\n",
       "  grid-column: 3;\n",
       "  text-align: right;\n",
       "  color: var(--xr-font-color2);\n",
       "}\n",
       "\n",
       ".xr-var-preview {\n",
       "  grid-column: 4;\n",
       "}\n",
       "\n",
       ".xr-var-name,\n",
       ".xr-var-dims,\n",
       ".xr-var-dtype,\n",
       ".xr-preview,\n",
       ".xr-attrs dt {\n",
       "  white-space: nowrap;\n",
       "  overflow: hidden;\n",
       "  text-overflow: ellipsis;\n",
       "  padding-right: 10px;\n",
       "}\n",
       "\n",
       ".xr-var-name:hover,\n",
       ".xr-var-dims:hover,\n",
       ".xr-var-dtype:hover,\n",
       ".xr-attrs dt:hover {\n",
       "  overflow: visible;\n",
       "  width: auto;\n",
       "  z-index: 1;\n",
       "}\n",
       "\n",
       ".xr-var-attrs,\n",
       ".xr-var-data {\n",
       "  display: none;\n",
       "  background-color: var(--xr-background-color) !important;\n",
       "  padding-bottom: 5px !important;\n",
       "}\n",
       "\n",
       ".xr-var-attrs-in:checked ~ .xr-var-attrs,\n",
       ".xr-var-data-in:checked ~ .xr-var-data {\n",
       "  display: block;\n",
       "}\n",
       "\n",
       ".xr-var-data > table {\n",
       "  float: right;\n",
       "}\n",
       "\n",
       ".xr-var-name span,\n",
       ".xr-var-data,\n",
       ".xr-attrs {\n",
       "  padding-left: 25px !important;\n",
       "}\n",
       "\n",
       ".xr-attrs,\n",
       ".xr-var-attrs,\n",
       ".xr-var-data {\n",
       "  grid-column: 1 / -1;\n",
       "}\n",
       "\n",
       "dl.xr-attrs {\n",
       "  padding: 0;\n",
       "  margin: 0;\n",
       "  display: grid;\n",
       "  grid-template-columns: 125px auto;\n",
       "}\n",
       "\n",
       ".xr-attrs dt,\n",
       ".xr-attrs dd {\n",
       "  padding: 0;\n",
       "  margin: 0;\n",
       "  float: left;\n",
       "  padding-right: 10px;\n",
       "  width: auto;\n",
       "}\n",
       "\n",
       ".xr-attrs dt {\n",
       "  font-weight: normal;\n",
       "  grid-column: 1;\n",
       "}\n",
       "\n",
       ".xr-attrs dt:hover span {\n",
       "  display: inline-block;\n",
       "  background: var(--xr-background-color);\n",
       "  padding-right: 10px;\n",
       "}\n",
       "\n",
       ".xr-attrs dd {\n",
       "  grid-column: 2;\n",
       "  white-space: pre-wrap;\n",
       "  word-break: break-all;\n",
       "}\n",
       "\n",
       ".xr-icon-database,\n",
       ".xr-icon-file-text2 {\n",
       "  display: inline-block;\n",
       "  vertical-align: middle;\n",
       "  width: 1em;\n",
       "  height: 1.5em !important;\n",
       "  stroke-width: 0;\n",
       "  stroke: currentColor;\n",
       "  fill: currentColor;\n",
       "}\n",
       "</style><pre class='xr-text-repr-fallback'>&lt;xarray.DataArray &#x27;MU&#x27; (lat: 16753, lon: 43200)&gt;\n",
       "array([[0, 0, 0, ..., 0, 0, 0],\n",
       "       [0, 0, 0, ..., 0, 0, 0],\n",
       "       [0, 0, 0, ..., 0, 0, 0],\n",
       "       ...,\n",
       "       [0, 0, 0, ..., 0, 0, 0],\n",
       "       [0, 0, 0, ..., 0, 0, 0],\n",
       "       [0, 0, 0, ..., 0, 0, 0]])\n",
       "Coordinates:\n",
       "  * lon      (lon) float64 -180.0 -180.0 -180.0 -180.0 ... 180.0 180.0 180.0\n",
       "  * lat      (lat) float64 83.62 83.61 83.6 83.6 ... -55.95 -55.96 -55.97 -55.98\n",
       "Attributes:\n",
       "    _FillValue:    0\n",
       "    scale_factor:  1.0\n",
       "    add_offset:    0.0\n",
       "    long_name:     WISE30sec MapUnit</pre><div class='xr-wrap' style='display:none'><div class='xr-header'><div class='xr-obj-type'>xarray.DataArray</div><div class='xr-array-name'>'MU'</div><ul class='xr-dim-list'><li><span class='xr-has-index'>lat</span>: 16753</li><li><span class='xr-has-index'>lon</span>: 43200</li></ul></div><ul class='xr-sections'><li class='xr-section-item'><div class='xr-array-wrap'><input id='section-7ed68982-4e6b-46d8-b4ae-dded5c424f9c' class='xr-array-in' type='checkbox' checked><label for='section-7ed68982-4e6b-46d8-b4ae-dded5c424f9c' title='Show/hide data repr'><svg class='icon xr-icon-database'><use xlink:href='#icon-database'></use></svg></label><div class='xr-array-preview xr-preview'><span>0 0 0 0 0 0 0 0 0 0 0 0 0 0 0 0 0 ... 0 0 0 0 0 0 0 0 0 0 0 0 0 0 0 0</span></div><div class='xr-array-data'><pre>array([[0, 0, 0, ..., 0, 0, 0],\n",
       "       [0, 0, 0, ..., 0, 0, 0],\n",
       "       [0, 0, 0, ..., 0, 0, 0],\n",
       "       ...,\n",
       "       [0, 0, 0, ..., 0, 0, 0],\n",
       "       [0, 0, 0, ..., 0, 0, 0],\n",
       "       [0, 0, 0, ..., 0, 0, 0]])</pre></div></div></li><li class='xr-section-item'><input id='section-988fb7a4-9a1e-46bc-8545-f8af499df6c7' class='xr-section-summary-in' type='checkbox'  checked><label for='section-988fb7a4-9a1e-46bc-8545-f8af499df6c7' class='xr-section-summary' >Coordinates: <span>(2)</span></label><div class='xr-section-inline-details'></div><div class='xr-section-details'><ul class='xr-var-list'><li class='xr-var-item'><div class='xr-var-name'><span class='xr-has-index'>lon</span></div><div class='xr-var-dims'>(lon)</div><div class='xr-var-dtype'>float64</div><div class='xr-var-preview xr-preview'>-180.0 -180.0 ... 180.0 180.0</div><input id='attrs-3aae21ff-3d98-4c6f-b42e-a205e3e32e99' class='xr-var-attrs-in' type='checkbox' ><label for='attrs-3aae21ff-3d98-4c6f-b42e-a205e3e32e99' title='Show/Hide attributes'><svg class='icon xr-icon-file-text2'><use xlink:href='#icon-file-text2'></use></svg></label><input id='data-6504325b-56e7-47f1-9aa8-7226c2b8d765' class='xr-var-data-in' type='checkbox'><label for='data-6504325b-56e7-47f1-9aa8-7226c2b8d765' title='Show/Hide data repr'><svg class='icon xr-icon-database'><use xlink:href='#icon-database'></use></svg></label><div class='xr-var-attrs'><dl class='xr-attrs'><dt><span>long_name :</span></dt><dd>longitude</dd><dt><span>standard_name :</span></dt><dd>longitude</dd><dt><span>units :</span></dt><dd>degrees_east</dd><dt><span>bounds :</span></dt><dd>lon_bnds</dd><dt><span>_FillValue :</span></dt><dd>1e-36</dd></dl></div><div class='xr-var-data'><pre>array([-179.995833, -179.9875  , -179.979167, ...,  179.979165,  179.987499,\n",
       "        179.995832])</pre></div></li><li class='xr-var-item'><div class='xr-var-name'><span class='xr-has-index'>lat</span></div><div class='xr-var-dims'>(lat)</div><div class='xr-var-dtype'>float64</div><div class='xr-var-preview xr-preview'>83.62 83.61 83.6 ... -55.97 -55.98</div><input id='attrs-fc351c44-7d0f-440f-bf19-031d68fa02d8' class='xr-var-attrs-in' type='checkbox' ><label for='attrs-fc351c44-7d0f-440f-bf19-031d68fa02d8' title='Show/Hide attributes'><svg class='icon xr-icon-file-text2'><use xlink:href='#icon-file-text2'></use></svg></label><input id='data-f0414b05-285f-4e58-be77-f8d36aa57930' class='xr-var-data-in' type='checkbox'><label for='data-f0414b05-285f-4e58-be77-f8d36aa57930' title='Show/Hide data repr'><svg class='icon xr-icon-database'><use xlink:href='#icon-database'></use></svg></label><div class='xr-var-attrs'><dl class='xr-attrs'><dt><span>long_name :</span></dt><dd>latitude</dd><dt><span>standard_name :</span></dt><dd>latitude</dd><dt><span>units :</span></dt><dd>degrees_north</dd><dt><span>bounds :</span></dt><dd>lat_bnds</dd><dt><span>_FillValue :</span></dt><dd>1e-36</dd></dl></div><div class='xr-var-data'><pre>array([ 83.620833,  83.612499,  83.604166, ..., -55.9625  , -55.970833,\n",
       "       -55.979167])</pre></div></li></ul></div></li><li class='xr-section-item'><input id='section-41e9264d-832c-47a1-aa1e-8ee6321419af' class='xr-section-summary-in' type='checkbox'  checked><label for='section-41e9264d-832c-47a1-aa1e-8ee6321419af' class='xr-section-summary' >Attributes: <span>(4)</span></label><div class='xr-section-inline-details'></div><div class='xr-section-details'><dl class='xr-attrs'><dt><span>_FillValue :</span></dt><dd>0</dd><dt><span>scale_factor :</span></dt><dd>1.0</dd><dt><span>add_offset :</span></dt><dd>0.0</dd><dt><span>long_name :</span></dt><dd>WISE30sec MapUnit</dd></dl></div></li></ul></div></div>"
      ],
      "text/plain": [
       "<xarray.DataArray 'MU' (lat: 16753, lon: 43200)>\n",
       "array([[0, 0, 0, ..., 0, 0, 0],\n",
       "       [0, 0, 0, ..., 0, 0, 0],\n",
       "       [0, 0, 0, ..., 0, 0, 0],\n",
       "       ...,\n",
       "       [0, 0, 0, ..., 0, 0, 0],\n",
       "       [0, 0, 0, ..., 0, 0, 0],\n",
       "       [0, 0, 0, ..., 0, 0, 0]])\n",
       "Coordinates:\n",
       "  * lon      (lon) float64 -180.0 -180.0 -180.0 -180.0 ... 180.0 180.0 180.0\n",
       "  * lat      (lat) float64 83.62 83.61 83.6 83.6 ... -55.95 -55.96 -55.97 -55.98\n",
       "Attributes:\n",
       "    _FillValue:    0\n",
       "    scale_factor:  1.0\n",
       "    add_offset:    0.0\n",
       "    long_name:     WISE30sec MapUnit"
      ]
     },
     "execution_count": 21,
     "metadata": {},
     "output_type": "execute_result"
    }
   ],
   "source": [
    "rds.MU"
   ]
  },
  {
   "cell_type": "code",
   "execution_count": null,
   "id": "cb13f37b",
   "metadata": {},
   "outputs": [],
   "source": []
  }
 ],
 "metadata": {
  "kernelspec": {
   "display_name": "Python [conda env:miniconda3-tiff2nc]",
   "language": "python",
   "name": "conda-env-miniconda3-tiff2nc-py"
  },
  "language_info": {
   "codemirror_mode": {
    "name": "ipython",
    "version": 3
   },
   "file_extension": ".py",
   "mimetype": "text/x-python",
   "name": "python",
   "nbconvert_exporter": "python",
   "pygments_lexer": "ipython3",
   "version": "3.7.12"
  }
 },
 "nbformat": 4,
 "nbformat_minor": 5
}
